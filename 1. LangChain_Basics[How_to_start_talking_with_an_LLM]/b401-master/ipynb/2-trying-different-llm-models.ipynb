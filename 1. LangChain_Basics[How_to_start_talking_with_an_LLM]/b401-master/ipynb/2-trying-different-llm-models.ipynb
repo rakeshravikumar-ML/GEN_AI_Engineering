{
  "cells": [
    {
      "cell_type": "markdown",
      "source": [
        "# **2-trying-different-llm-models**\n",
        "\n",
        "## **🤖 Intro**\n",
        "Connect with **alternative LLMs** such as **Llama3** and **Mixtral**.  \n",
        "- **Caveat**: The quality of these open-source models still **lags** behind OpenAI’s ChatGPT.\n",
        "\n",
        "---\n",
        "\n",
        "## **⚙️ Setup**\n",
        "1. **Clone or Download** the GitHub repo to your computer.\n",
        "2. In **terminal**:\n",
        "   ```\n",
        "   cd project_name\n",
        "   pyenv local 3.11.4\n",
        "   poetry install\n",
        "   poetry shell\n",
        "   ```\n",
        "3. To open with **Jupyter Notebooks**:\n",
        "   ```\n",
        "   jupyter lab\n",
        "   ```\n",
        "   - Navigate to your **notebooks folder** and open `002-trying-different-llm-models.ipynb`.\n",
        "4. **View Code** in your preferred editor (e.g., VS Code):\n",
        "   - Open `002-trying-different-llm-models.py`.\n",
        "\n",
        "---\n",
        "\n",
        "## **🔐 Create Your `.env` File**\n",
        "- A file named **`.env.example`** is provided in the repo.\n",
        "- Rename it to **`.env`** and add confidential keys:\n",
        "  ```\n",
        "  OPENAI_API_KEY=your_openai_api_key\n",
        "  LANGCHAIN_TRACING_V2=true\n",
        "  LANGCHAIN_ENDPOINT=https://api.smith.langchain.com\n",
        "  LANGCHAIN_API_KEY=your_langchain_api_key\n",
        "  LANGCHAIN_PROJECT=your_project_name\n",
        "  ```\n",
        "- This project is called **`002-trying-different-llm-models`** in **LangSmith**.\n",
        "\n",
        "---\n",
        "\n",
        "## **📊 Track Operations**\n",
        "- Monitor usage and costs in **LangSmith**:\n",
        "  ```\n",
        "  smith.langchain.com\n",
        "  ```\n",
        "\n",
        "---\n",
        "\n",
        "## **💡 Intro to Groq**\n",
        "- **Groq** is an AI startup (not the same as **Grok**, Elon Musk’s LLM).\n",
        "- Their **LPU (Language Processing Unit)** is designed for **faster, cheaper** LLM runs.\n",
        "- **Groq Cloud** lets you try **Llama3** or **Mixtral** for free (via a **Groq API Key**, subject to rate limits).\n",
        "\n",
        "### **How to Get a Free Groq API Key**\n",
        "1. **Login** at [Groq Cloud](https://console.groq.com/login).\n",
        "2. Go to **API Keys** in the left sidebar.\n",
        "3. **Create a new key** and copy it to your `.env` file.\n",
        "\n",
        "---\n",
        "\n",
        "### **Installing Groq Support**\n",
        "- If not already included, **install** it via Pip or Poetry:\n",
        "  ```\n",
        "  pip install langchain-groq\n",
        "  ```\n",
        "  or\n",
        "  ```\n",
        "  poetry add langchain-groq\n",
        "  ```\n"
      ],
      "metadata": {
        "id": "UCOmZwgCF9Ud"
      },
      "id": "UCOmZwgCF9Ud"
    },
    {
      "cell_type": "markdown",
      "id": "819fad70-2d71-4e4a-b8a6-20285d7eb44f",
      "metadata": {
        "id": "819fad70-2d71-4e4a-b8a6-20285d7eb44f"
      },
      "source": [
        "# How to use Groq in your LangChain or CrewAI project\n"
      ]
    },
    {
      "cell_type": "code",
      "execution_count": null,
      "id": "7ce029dd-1e8b-4b82-98f6-bf9bfd09ccc1",
      "metadata": {
        "id": "7ce029dd-1e8b-4b82-98f6-bf9bfd09ccc1"
      },
      "outputs": [],
      "source": [
        "# Purpose: Demonstrate how to use Groq's LLM\n",
        "# --------------------------------------------\n",
        "\n",
        "# 1. Import the ChatGroq class from langchain_groq\n",
        "# from langchain_groq import ChatGroq\n",
        "\n",
        "# 2. (Optional) If you want to instantiate a Llama3 model in your code:\n",
        "# llm = ChatGroq(\n",
        "#     model=\"llama3-70b-8192\"  # Specific Llama3 model variant\n",
        "# )"
      ]
    },
    {
      "cell_type": "markdown",
      "id": "5f3f9434-fb9f-4960-af68-55af2d86d847",
      "metadata": {
        "id": "5f3f9434-fb9f-4960-af68-55af2d86d847"
      },
      "source": [
        "# Or if you want to use Mixtral:"
      ]
    },
    {
      "cell_type": "code",
      "execution_count": null,
      "id": "d2232591-6853-4840-b9d4-4b338a8d81d5",
      "metadata": {
        "id": "d2232591-6853-4840-b9d4-4b338a8d81d5"
      },
      "outputs": [],
      "source": [
        "# llm = ChatGroq(\n",
        "#     model=\"mixtral-8x7b-32768\"\n",
        "# )"
      ]
    },
    {
      "cell_type": "markdown",
      "id": "583dcd83-520b-4dc2-a160-1578314a847e",
      "metadata": {
        "id": "583dcd83-520b-4dc2-a160-1578314a847e"
      },
      "source": [
        "## You can take a look at Groq Rate limits here\n",
        "* https://console.groq.com/settings/limits"
      ]
    },
    {
      "cell_type": "markdown",
      "id": "5c4043b0-6f4e-4834-ac5c-8f3c1427c89d",
      "metadata": {
        "id": "5c4043b0-6f4e-4834-ac5c-8f3c1427c89d"
      },
      "source": [
        "## Groq pricing for projects in Production\n",
        "* [Groq pricing](https://wow.groq.com/)."
      ]
    },
    {
      "cell_type": "markdown",
      "id": "0e299ed0-391d-4578-aee6-2537ce294252",
      "metadata": {
        "id": "0e299ed0-391d-4578-aee6-2537ce294252"
      },
      "source": [
        "## Let's give it a try!"
      ]
    },
    {
      "cell_type": "markdown",
      "id": "055f6a62-115f-4d26-8809-2e604bddd82e",
      "metadata": {
        "id": "055f6a62-115f-4d26-8809-2e604bddd82e"
      },
      "source": [
        "If you are using the pre-loaded poetry shell, you do not need to install the following package because it is already pre-loaded for you:"
      ]
    },
    {
      "cell_type": "code",
      "execution_count": null,
      "id": "e93ed82f-d41b-4608-83d1-1053573905ff",
      "metadata": {
        "id": "e93ed82f-d41b-4608-83d1-1053573905ff"
      },
      "outputs": [],
      "source": [
        "#pip install langchain-groq"
      ]
    },
    {
      "cell_type": "code",
      "execution_count": null,
      "id": "0548e514-cf7a-4f53-8df4-b6c3d03dc696",
      "metadata": {
        "id": "0548e514-cf7a-4f53-8df4-b6c3d03dc696"
      },
      "outputs": [],
      "source": [
        "import os\n",
        "from dotenv import load_dotenv, find_dotenv\n",
        "# Load environment variables (including GROQ_API_KEY, if present)\n",
        "_ = load_dotenv(find_dotenv())"
      ]
    },
    {
      "cell_type": "code",
      "execution_count": null,
      "id": "b3e7309f-3080-4bd0-af0f-374cc642b5c0",
      "metadata": {
        "id": "b3e7309f-3080-4bd0-af0f-374cc642b5c0"
      },
      "outputs": [],
      "source": [
        "# Import ChatGroq class for interacting with Groq-based LLMs\n",
        "from langchain_groq import ChatGroq\n",
        "\n",
        "# Create a ChatGroq instance for the Llama3 model\n",
        "llamaChatModel = ChatGroq(\n",
        "    model=\"llama3-70b-8192\"\n",
        ")"
      ]
    },
    {
      "cell_type": "code",
      "execution_count": null,
      "id": "8527fb7a-69a1-44ab-9601-e3e259df642a",
      "metadata": {
        "id": "8527fb7a-69a1-44ab-9601-e3e259df642a"
      },
      "outputs": [],
      "source": [
        "# Create a ChatGroq instance for the Mixtral model\n",
        "mistralChatModel = ChatGroq(\n",
        "    model=\"mixtral-8x7b-32768\"\n",
        ")"
      ]
    },
    {
      "cell_type": "code",
      "execution_count": null,
      "id": "f41aad1b-4aba-4bf4-a06d-2925a68b4828",
      "metadata": {
        "id": "f41aad1b-4aba-4bf4-a06d-2925a68b4828"
      },
      "outputs": [],
      "source": [
        "# Define role-based messages for the conversation\n",
        "messages = [\n",
        "    (\"system\", \"You are an historian expert in the Kennedy family.\"),\n",
        "    (\"human\", \"How many members of the family died tragically?\"),\n",
        "]"
      ]
    },
    {
      "cell_type": "code",
      "execution_count": null,
      "id": "df753975-ebd0-49d0-bd01-56bee372eb47",
      "metadata": {
        "id": "df753975-ebd0-49d0-bd01-56bee372eb47"
      },
      "outputs": [],
      "source": [
        "# Invoke the Llama3 model with the conversation\n",
        "llamaResponse = llamaChatModel.invoke(messages)"
      ]
    },
    {
      "cell_type": "markdown",
      "source": [
        "## **⚙️ Environment Loading**\n",
        "- **🔑 `load_dotenv(find_dotenv())`**: Searches for a `.env` file containing credentials like `GROQ_API_KEY`.\n",
        "- Ensures your **API keys** and **configuration** are readily available for **LLM** usage.\n",
        "\n",
        "## **🤖 Model Import & Creation**\n",
        "- **`from langchain_groq import ChatGroq`**: Direct integration with **Groq** LLMs.  \n",
        "- **`llamaChatModel`**: Instantiates **Llama3** (`70b` params, `8192` token context).\n",
        "- **`mistralChatModel`**: Instantiates **Mixtral** (`8x7b` config, `32768` token context).\n",
        "\n",
        "## **💬 Conversation Setup**\n",
        "- **System Message**: Defines role—\"historian expert in the Kennedy family.\"  \n",
        "- **Human Message**: Asks how many Kennedys died tragically, prompting a historical viewpoint.\n",
        "\n",
        "## **📨 Model Invocation**\n",
        "- **`llamaResponse = llamaChatModel.invoke(messages)`**:  \n",
        "  - Sends role-based input to the **Llama3** model via Groq’s hardware.  \n",
        "  - Returns the model’s best guess or summary regarding the tragic losses in the Kennedy family.\n",
        "\n",
        "## **💡 Why Groq?**\n",
        "- **🚀 High Performance**: Groq’s specialized **Language Processing Unit (LPU)** may offer **faster** inference.  \n",
        "- **💰 Cost Savings**: Potentially more **cost-effective** for large-scale usage compared to general-purpose GPUs.\n",
        "\n",
        "## **🔧 Next Steps**\n",
        "1. **Compare**: Try `mistralChatModel.invoke(messages)` to see the **Mixtral** model’s response.  \n",
        "2. **Adjust Parameters**: Add `temperature`, `max_tokens`, or `stream=True` for further **customization**.  \n",
        "3. **Integration**: Use these models in your broader **LangChain** pipelines, building on standard methods (`.invoke()`, `.stream()`).\n",
        "\n",
        "> **🎯 Pro Tip**: Keep an eye on **token usage** and **latency**—Groq’s LPU can be a game-changer for real-time or large-scale LLM deployments."
      ],
      "metadata": {
        "id": "RNBPZuYnFNGl"
      },
      "id": "RNBPZuYnFNGl"
    },
    {
      "cell_type": "code",
      "execution_count": null,
      "id": "850e5967-ea3a-434a-8aed-406f29ed89aa",
      "metadata": {
        "id": "850e5967-ea3a-434a-8aed-406f29ed89aa",
        "outputId": "7af1b5df-c229-4f2d-93c0-574cb84267bc"
      },
      "outputs": [
        {
          "name": "stdout",
          "output_type": "stream",
          "text": [
            "The Kennedy family has indeed been touched by tragedy numerous times throughout their history. It's a painful and poignant aspect of their story.\n",
            "\n",
            "To answer your question, a staggering number of Kennedy family members have met with tragic ends. Here's a brief rundown:\n",
            "\n",
            "1. Joseph P. Kennedy Jr. (1915-1944): The eldest son of Joseph P. Kennedy Sr. and Rose Kennedy, Joseph Jr. was killed in action during World War II when his plane exploded on a secret mission over the English Channel.\n",
            "2. Kathleen \"Kick\" Kennedy (1920-1948): Joseph Jr.'s sister Kathleen died in a plane crash in France at the age of 28. She was the wife of William Cavendish, the Marquess of Hartington.\n",
            "3. John F. Kennedy (1917-1963): The 35th President of the United States, John F. Kennedy was assassinated in Dallas, Texas, on November 22, 1963.\n",
            "4. Robert F. Kennedy (1925-1968): John's younger brother and Attorney General of the United States, Robert was assassinated on June 5, 1968, during his presidential campaign in Los Angeles, California.\n",
            "5. David Kennedy (1955-1984): The son of Robert F. Kennedy, David died of a drug overdose in a hotel room in Palm Beach, Florida, at the age of 28.\n",
            "6. Michael LeMoyne Kennedy (1958-1997): Another son of Robert F. Kennedy, Michael died in a skiing accident in Aspen, Colorado, on December 31, 1997, at the age of 39.\n",
            "7. John F. Kennedy Jr. (1960-1999): The son of John F. Kennedy and Jacqueline Kennedy Onassis, John Jr. died in a plane crash off the coast of Massachusetts on July 18, 1999, at the age of 38. His wife Carolyn Bessette Kennedy and her sister Lauren Bessette also perished in the crash.\n",
            "8. Kara Kennedy (1960-2011): The daughter of Edward \"Ted\" Kennedy, Kara died of a heart attack at the age of 51 while exercising at a health club in Washington, D.C.\n",
            "9. Saoirse Kennedy Hill (1997-2019): The granddaughter of Robert F. Kennedy, Saoirse died of a drug overdose at the Kennedy compound in Hyannis Port, Massachusetts, at the age of 22.\n",
            "\n",
            "These tragedies have undoubtedly left an indelible mark on the Kennedy family, and their legacy continues to be shaped by both their triumphs and their heartbreaks.\n"
          ]
        }
      ],
      "source": [
        "print(llamaResponse.content)"
      ]
    },
    {
      "cell_type": "code",
      "execution_count": null,
      "id": "63ce3b58-09d0-431b-95d2-ce9c2fbb5a9e",
      "metadata": {
        "id": "63ce3b58-09d0-431b-95d2-ce9c2fbb5a9e"
      },
      "outputs": [],
      "source": [
        "mistralResponse = mistralChatModel.invoke(messages)"
      ]
    },
    {
      "cell_type": "code",
      "execution_count": null,
      "id": "86f5dc68-4e8d-4006-9354-5d290901b77f",
      "metadata": {
        "id": "86f5dc68-4e8d-4006-9354-5d290901b77f",
        "outputId": "7270d000-6659-4d33-a2e7-ffa6713a3061"
      },
      "outputs": [
        {
          "name": "stdout",
          "output_type": "stream",
          "text": [
            "As an assistant, I can provide you with the following information about tragic deaths in the Kennedy family:\n",
            "\n",
            "1. Joseph P. Kennedy Sr.'s son, Joseph P. Kennedy Jr., died in 1944 during World War II when his plane exploded during a secret mission.\n",
            "\n",
            "2. John F. Kennedy, the 35th President of the United States, was assassinated in Dallas, Texas, on November 22, 1963.\n",
            "\n",
            "3. Robert F. Kennedy, a US Senator and Attorney General, was assassinated in Los Angeles, California, on June 5, 1968.\n",
            "\n",
            "4. John F. Kennedy Jr., the son of President John F. Kennedy, died in a plane crash off the coast of Martha's Vineyard, Massachusetts, on July 16, 1999. His wife Carolyn Bessette Kennedy and sister-in-law Lauren Bessette also died in the crash.\n",
            "\n",
            "5. Kathleen Cavendish, Marchioness of Hartington, was the sister of John F. Kennedy. She died in a plane crash in France on May 13, 1948.\n",
            "\n",
            "6. Michael LeMoyne Kennedy, a son of Robert F. Kennedy, died in a skiing accident in Aspen, Colorado, on December 31, 1997.\n",
            "\n",
            "These are some of the most notable tragic deaths in the Kennedy family. There have been other deaths and accidents involving Kennedy family members, but these are the ones that have had the most significant impact on American history and politics.\n"
          ]
        }
      ],
      "source": [
        "print(mistralResponse.content)"
      ]
    },
    {
      "cell_type": "markdown",
      "id": "4c70e41d-5a7a-4831-a1be-978ccaceda07",
      "metadata": {
        "id": "4c70e41d-5a7a-4831-a1be-978ccaceda07"
      },
      "source": [
        "## How to execute the code from Visual Studio Code\n",
        "* In Visual Studio Code, see the file 002-trying-different-llm-models.py\n",
        "* In terminal, make sure you are in the directory of the file and run:\n",
        "    * python 002-trying-different-llm-models.py"
      ]
    },
    {
      "cell_type": "code",
      "execution_count": null,
      "id": "b47d77fd-c1ee-4e13-9219-7b5d16069f52",
      "metadata": {
        "id": "b47d77fd-c1ee-4e13-9219-7b5d16069f52"
      },
      "outputs": [],
      "source": []
    }
  ],
  "metadata": {
    "kernelspec": {
      "display_name": "Python 3 (ipykernel)",
      "language": "python",
      "name": "python3"
    },
    "language_info": {
      "codemirror_mode": {
        "name": "ipython",
        "version": 3
      },
      "file_extension": ".py",
      "mimetype": "text/x-python",
      "name": "python",
      "nbconvert_exporter": "python",
      "pygments_lexer": "ipython3",
      "version": "3.11.4"
    },
    "colab": {
      "provenance": []
    }
  },
  "nbformat": 4,
  "nbformat_minor": 5
}